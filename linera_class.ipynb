{
  "nbformat": 4,
  "nbformat_minor": 0,
  "metadata": {
    "colab": {
      "name": "linera class.ipynb",
      "provenance": [],
      "authorship_tag": "ABX9TyO6uHh382NHpz4DocGn2j60"
    },
    "kernelspec": {
      "name": "python3",
      "display_name": "Python 3"
    }
  },
  "cells": [
    {
      "cell_type": "code",
      "metadata": {
        "id": "TsPmnKlW67jT",
        "colab_type": "code",
        "outputId": "c59e4ece-a45d-4398-814e-07412d650c40",
        "colab": {
          "base_uri": "https://localhost:8080/",
          "height": 513
        }
      },
      "source": [
        "!pip install -q tensorflow==2.0.0-beta1\n",
        "import tensorflow as tf\n",
        "print(tf.__version__)     "
      ],
      "execution_count": 1,
      "outputs": [
        {
          "output_type": "stream",
          "text": [
            "\u001b[K     |████████████████████████████████| 87.9MB 51kB/s \n",
            "\u001b[K     |████████████████████████████████| 501kB 48.3MB/s \n",
            "\u001b[K     |████████████████████████████████| 3.1MB 37.4MB/s \n",
            "\u001b[?25h"
          ],
          "name": "stdout"
        },
        {
          "output_type": "stream",
          "text": [
            "/usr/local/lib/python3.6/dist-packages/tensorflow/python/framework/dtypes.py:516: FutureWarning: Passing (type, 1) or '1type' as a synonym of type is deprecated; in a future version of numpy, it will be understood as (type, (1,)) / '(1,)type'.\n",
            "  _np_qint8 = np.dtype([(\"qint8\", np.int8, 1)])\n",
            "/usr/local/lib/python3.6/dist-packages/tensorflow/python/framework/dtypes.py:517: FutureWarning: Passing (type, 1) or '1type' as a synonym of type is deprecated; in a future version of numpy, it will be understood as (type, (1,)) / '(1,)type'.\n",
            "  _np_quint8 = np.dtype([(\"quint8\", np.uint8, 1)])\n",
            "/usr/local/lib/python3.6/dist-packages/tensorflow/python/framework/dtypes.py:518: FutureWarning: Passing (type, 1) or '1type' as a synonym of type is deprecated; in a future version of numpy, it will be understood as (type, (1,)) / '(1,)type'.\n",
            "  _np_qint16 = np.dtype([(\"qint16\", np.int16, 1)])\n",
            "/usr/local/lib/python3.6/dist-packages/tensorflow/python/framework/dtypes.py:519: FutureWarning: Passing (type, 1) or '1type' as a synonym of type is deprecated; in a future version of numpy, it will be understood as (type, (1,)) / '(1,)type'.\n",
            "  _np_quint16 = np.dtype([(\"quint16\", np.uint16, 1)])\n",
            "/usr/local/lib/python3.6/dist-packages/tensorflow/python/framework/dtypes.py:520: FutureWarning: Passing (type, 1) or '1type' as a synonym of type is deprecated; in a future version of numpy, it will be understood as (type, (1,)) / '(1,)type'.\n",
            "  _np_qint32 = np.dtype([(\"qint32\", np.int32, 1)])\n",
            "/usr/local/lib/python3.6/dist-packages/tensorflow/python/framework/dtypes.py:525: FutureWarning: Passing (type, 1) or '1type' as a synonym of type is deprecated; in a future version of numpy, it will be understood as (type, (1,)) / '(1,)type'.\n",
            "  np_resource = np.dtype([(\"resource\", np.ubyte, 1)])\n"
          ],
          "name": "stderr"
        },
        {
          "output_type": "stream",
          "text": [
            "2.0.0-beta1\n"
          ],
          "name": "stdout"
        },
        {
          "output_type": "stream",
          "text": [
            "/usr/local/lib/python3.6/dist-packages/tensorboard/compat/tensorflow_stub/dtypes.py:541: FutureWarning: Passing (type, 1) or '1type' as a synonym of type is deprecated; in a future version of numpy, it will be understood as (type, (1,)) / '(1,)type'.\n",
            "  _np_qint8 = np.dtype([(\"qint8\", np.int8, 1)])\n",
            "/usr/local/lib/python3.6/dist-packages/tensorboard/compat/tensorflow_stub/dtypes.py:542: FutureWarning: Passing (type, 1) or '1type' as a synonym of type is deprecated; in a future version of numpy, it will be understood as (type, (1,)) / '(1,)type'.\n",
            "  _np_quint8 = np.dtype([(\"quint8\", np.uint8, 1)])\n",
            "/usr/local/lib/python3.6/dist-packages/tensorboard/compat/tensorflow_stub/dtypes.py:543: FutureWarning: Passing (type, 1) or '1type' as a synonym of type is deprecated; in a future version of numpy, it will be understood as (type, (1,)) / '(1,)type'.\n",
            "  _np_qint16 = np.dtype([(\"qint16\", np.int16, 1)])\n",
            "/usr/local/lib/python3.6/dist-packages/tensorboard/compat/tensorflow_stub/dtypes.py:544: FutureWarning: Passing (type, 1) or '1type' as a synonym of type is deprecated; in a future version of numpy, it will be understood as (type, (1,)) / '(1,)type'.\n",
            "  _np_quint16 = np.dtype([(\"quint16\", np.uint16, 1)])\n",
            "/usr/local/lib/python3.6/dist-packages/tensorboard/compat/tensorflow_stub/dtypes.py:545: FutureWarning: Passing (type, 1) or '1type' as a synonym of type is deprecated; in a future version of numpy, it will be understood as (type, (1,)) / '(1,)type'.\n",
            "  _np_qint32 = np.dtype([(\"qint32\", np.int32, 1)])\n",
            "/usr/local/lib/python3.6/dist-packages/tensorboard/compat/tensorflow_stub/dtypes.py:550: FutureWarning: Passing (type, 1) or '1type' as a synonym of type is deprecated; in a future version of numpy, it will be understood as (type, (1,)) / '(1,)type'.\n",
            "  np_resource = np.dtype([(\"resource\", np.ubyte, 1)])\n"
          ],
          "name": "stderr"
        }
      ]
    },
    {
      "cell_type": "code",
      "metadata": {
        "id": "cYg75IgK_tEB",
        "colab_type": "code",
        "colab": {}
      },
      "source": [
        "from sklearn.datasets import load_breast_cancer"
      ],
      "execution_count": 0,
      "outputs": []
    },
    {
      "cell_type": "code",
      "metadata": {
        "id": "wa3tx3SBADQv",
        "colab_type": "code",
        "colab": {}
      },
      "source": [
        "data=load_breast_cancer()"
      ],
      "execution_count": 0,
      "outputs": []
    },
    {
      "cell_type": "code",
      "metadata": {
        "id": "BSlWUnwrAJUj",
        "colab_type": "code",
        "outputId": "e8397d1f-98bf-4e91-fa08-d94ee4a98587",
        "colab": {
          "base_uri": "https://localhost:8080/",
          "height": 34
        }
      },
      "source": [
        "type(data)"
      ],
      "execution_count": 4,
      "outputs": [
        {
          "output_type": "execute_result",
          "data": {
            "text/plain": [
              "sklearn.utils.Bunch"
            ]
          },
          "metadata": {
            "tags": []
          },
          "execution_count": 4
        }
      ]
    },
    {
      "cell_type": "code",
      "metadata": {
        "id": "tNMoSpSUAj0Q",
        "colab_type": "code",
        "outputId": "794742de-7a8b-443f-e6d3-50cf36360f67",
        "colab": {
          "base_uri": "https://localhost:8080/",
          "height": 34
        }
      },
      "source": [
        "data.keys()"
      ],
      "execution_count": 5,
      "outputs": [
        {
          "output_type": "execute_result",
          "data": {
            "text/plain": [
              "dict_keys(['data', 'target', 'target_names', 'DESCR', 'feature_names', 'filename'])"
            ]
          },
          "metadata": {
            "tags": []
          },
          "execution_count": 5
        }
      ]
    },
    {
      "cell_type": "code",
      "metadata": {
        "id": "Cx1WfKzguGey",
        "colab_type": "code",
        "colab": {
          "base_uri": "https://localhost:8080/",
          "height": 34
        },
        "outputId": "26911904-36e2-4da0-e438-3f2ba32f8c72"
      },
      "source": [
        "data.data.shape"
      ],
      "execution_count": 7,
      "outputs": [
        {
          "output_type": "execute_result",
          "data": {
            "text/plain": [
              "(569, 30)"
            ]
          },
          "metadata": {
            "tags": []
          },
          "execution_count": 7
        }
      ]
    },
    {
      "cell_type": "code",
      "metadata": {
        "id": "0fqe_oHPuSvt",
        "colab_type": "code",
        "colab": {
          "base_uri": "https://localhost:8080/",
          "height": 459
        },
        "outputId": "7264fb9f-3f8c-43c7-bc2a-f338e709e53a"
      },
      "source": [
        "data.target"
      ],
      "execution_count": 8,
      "outputs": [
        {
          "output_type": "execute_result",
          "data": {
            "text/plain": [
              "array([0, 0, 0, 0, 0, 0, 0, 0, 0, 0, 0, 0, 0, 0, 0, 0, 0, 0, 0, 1, 1, 1,\n",
              "       0, 0, 0, 0, 0, 0, 0, 0, 0, 0, 0, 0, 0, 0, 0, 1, 0, 0, 0, 0, 0, 0,\n",
              "       0, 0, 1, 0, 1, 1, 1, 1, 1, 0, 0, 1, 0, 0, 1, 1, 1, 1, 0, 1, 0, 0,\n",
              "       1, 1, 1, 1, 0, 1, 0, 0, 1, 0, 1, 0, 0, 1, 1, 1, 0, 0, 1, 0, 0, 0,\n",
              "       1, 1, 1, 0, 1, 1, 0, 0, 1, 1, 1, 0, 0, 1, 1, 1, 1, 0, 1, 1, 0, 1,\n",
              "       1, 1, 1, 1, 1, 1, 1, 0, 0, 0, 1, 0, 0, 1, 1, 1, 0, 0, 1, 0, 1, 0,\n",
              "       0, 1, 0, 0, 1, 1, 0, 1, 1, 0, 1, 1, 1, 1, 0, 1, 1, 1, 1, 1, 1, 1,\n",
              "       1, 1, 0, 1, 1, 1, 1, 0, 0, 1, 0, 1, 1, 0, 0, 1, 1, 0, 0, 1, 1, 1,\n",
              "       1, 0, 1, 1, 0, 0, 0, 1, 0, 1, 0, 1, 1, 1, 0, 1, 1, 0, 0, 1, 0, 0,\n",
              "       0, 0, 1, 0, 0, 0, 1, 0, 1, 0, 1, 1, 0, 1, 0, 0, 0, 0, 1, 1, 0, 0,\n",
              "       1, 1, 1, 0, 1, 1, 1, 1, 1, 0, 0, 1, 1, 0, 1, 1, 0, 0, 1, 0, 1, 1,\n",
              "       1, 1, 0, 1, 1, 1, 1, 1, 0, 1, 0, 0, 0, 0, 0, 0, 0, 0, 0, 0, 0, 0,\n",
              "       0, 0, 1, 1, 1, 1, 1, 1, 0, 1, 0, 1, 1, 0, 1, 1, 0, 1, 0, 0, 1, 1,\n",
              "       1, 1, 1, 1, 1, 1, 1, 1, 1, 1, 1, 0, 1, 1, 0, 1, 0, 1, 1, 1, 1, 1,\n",
              "       1, 1, 1, 1, 1, 1, 1, 1, 1, 0, 1, 1, 1, 0, 1, 0, 1, 1, 1, 1, 0, 0,\n",
              "       0, 1, 1, 1, 1, 0, 1, 0, 1, 0, 1, 1, 1, 0, 1, 1, 1, 1, 1, 1, 1, 0,\n",
              "       0, 0, 1, 1, 1, 1, 1, 1, 1, 1, 1, 1, 1, 0, 0, 1, 0, 0, 0, 1, 0, 0,\n",
              "       1, 1, 1, 1, 1, 0, 1, 1, 1, 1, 1, 0, 1, 1, 1, 0, 1, 1, 0, 0, 1, 1,\n",
              "       1, 1, 1, 1, 0, 1, 1, 1, 1, 1, 1, 1, 0, 1, 1, 1, 1, 1, 0, 1, 1, 0,\n",
              "       1, 1, 1, 1, 1, 1, 1, 1, 1, 1, 1, 1, 0, 1, 0, 0, 1, 0, 1, 1, 1, 1,\n",
              "       1, 0, 1, 1, 0, 1, 0, 1, 1, 0, 1, 0, 1, 1, 1, 1, 1, 1, 1, 1, 0, 0,\n",
              "       1, 1, 1, 1, 1, 1, 0, 1, 1, 1, 1, 1, 1, 1, 1, 1, 1, 0, 1, 1, 1, 1,\n",
              "       1, 1, 1, 0, 1, 0, 1, 1, 0, 1, 1, 1, 1, 1, 0, 0, 1, 0, 1, 0, 1, 1,\n",
              "       1, 1, 1, 0, 1, 1, 0, 1, 0, 1, 0, 0, 1, 1, 1, 0, 1, 1, 1, 1, 1, 1,\n",
              "       1, 1, 1, 1, 1, 0, 1, 0, 0, 1, 1, 1, 1, 1, 1, 1, 1, 1, 1, 1, 1, 1,\n",
              "       1, 1, 1, 1, 1, 1, 1, 1, 1, 1, 1, 1, 0, 0, 0, 0, 0, 0, 1])"
            ]
          },
          "metadata": {
            "tags": []
          },
          "execution_count": 8
        }
      ]
    },
    {
      "cell_type": "code",
      "metadata": {
        "id": "ZQaYXJWcucz0",
        "colab_type": "code",
        "colab": {
          "base_uri": "https://localhost:8080/",
          "height": 187
        },
        "outputId": "36311572-6280-4b40-8f4f-a0fe6a1d78aa"
      },
      "source": [
        "data.feature_names"
      ],
      "execution_count": 10,
      "outputs": [
        {
          "output_type": "execute_result",
          "data": {
            "text/plain": [
              "array(['mean radius', 'mean texture', 'mean perimeter', 'mean area',\n",
              "       'mean smoothness', 'mean compactness', 'mean concavity',\n",
              "       'mean concave points', 'mean symmetry', 'mean fractal dimension',\n",
              "       'radius error', 'texture error', 'perimeter error', 'area error',\n",
              "       'smoothness error', 'compactness error', 'concavity error',\n",
              "       'concave points error', 'symmetry error',\n",
              "       'fractal dimension error', 'worst radius', 'worst texture',\n",
              "       'worst perimeter', 'worst area', 'worst smoothness',\n",
              "       'worst compactness', 'worst concavity', 'worst concave points',\n",
              "       'worst symmetry', 'worst fractal dimension'], dtype='<U23')"
            ]
          },
          "metadata": {
            "tags": []
          },
          "execution_count": 10
        }
      ]
    },
    {
      "cell_type": "code",
      "metadata": {
        "id": "9A0-8mjSvHii",
        "colab_type": "code",
        "colab": {}
      },
      "source": [
        "from sklearn.model_selection import train_test_split\n",
        "X_train, X_test,y_train,y_test=train_test_split(data.data, data.target, test_size=0.33)\n",
        "N,D=X_train.shape"
      ],
      "execution_count": 0,
      "outputs": []
    },
    {
      "cell_type": "code",
      "metadata": {
        "id": "EOZefxfcwmyL",
        "colab_type": "code",
        "colab": {}
      },
      "source": [
        "from sklearn.preprocessing import StandardScaler\n",
        "scaler=StandardScaler()\n",
        "X_train=scaler.fit_transform(X_train)\n",
        "X_test=scaler.transform(X_test)"
      ],
      "execution_count": 0,
      "outputs": []
    },
    {
      "cell_type": "code",
      "metadata": {
        "id": "x7yhd7dNx4Mf",
        "colab_type": "code",
        "colab": {
          "base_uri": "https://localhost:8080/",
          "height": 1000
        },
        "outputId": "b02ec382-9e1b-43e3-a9e0-5decc999cb9f"
      },
      "source": [
        "model=tf.keras.models.Sequential([\n",
        "                                 tf.keras.layers.Input(shape=(D,)),\n",
        "                                 tf.keras.layers.Dense(1,activation='sigmoid')\n",
        "])\n",
        "model.compile(\n",
        "    optimizer='adam',\n",
        "    loss='binary_crossentropy',\n",
        "    metrics=['accuracy']\n",
        ")\n",
        "r=model.fit(X_train,y_train,validation_data=(X_test,y_test),epochs=100)\n",
        "\n",
        "print(\"Train score : \", model.evaluate(X_train,y_train))\n",
        "print(\"Test score : \",model.evaluate(X_test,y_test))"
      ],
      "execution_count": 17,
      "outputs": [
        {
          "output_type": "stream",
          "text": [
            "WARNING:tensorflow:From /usr/local/lib/python3.6/dist-packages/tensorflow/python/ops/math_grad.py:1250: add_dispatch_support.<locals>.wrapper (from tensorflow.python.ops.array_ops) is deprecated and will be removed in a future version.\n",
            "Instructions for updating:\n",
            "Use tf.where in 2.0, which has the same broadcast rule as np.where\n",
            "Train on 381 samples, validate on 188 samples\n",
            "Epoch 1/100\n",
            "381/381 [==============================] - 0s 531us/sample - loss: 0.3593 - accuracy: 0.8714 - val_loss: 0.3605 - val_accuracy: 0.8777\n",
            "Epoch 2/100\n",
            "381/381 [==============================] - 0s 74us/sample - loss: 0.3313 - accuracy: 0.8924 - val_loss: 0.3351 - val_accuracy: 0.8777\n",
            "Epoch 3/100\n",
            "381/381 [==============================] - 0s 60us/sample - loss: 0.3073 - accuracy: 0.9029 - val_loss: 0.3132 - val_accuracy: 0.8830\n",
            "Epoch 4/100\n",
            "381/381 [==============================] - 0s 60us/sample - loss: 0.2867 - accuracy: 0.9160 - val_loss: 0.2943 - val_accuracy: 0.8883\n",
            "Epoch 5/100\n",
            "381/381 [==============================] - 0s 59us/sample - loss: 0.2688 - accuracy: 0.9239 - val_loss: 0.2780 - val_accuracy: 0.8883\n",
            "Epoch 6/100\n",
            "381/381 [==============================] - 0s 54us/sample - loss: 0.2530 - accuracy: 0.9265 - val_loss: 0.2642 - val_accuracy: 0.8989\n",
            "Epoch 7/100\n",
            "381/381 [==============================] - 0s 58us/sample - loss: 0.2394 - accuracy: 0.9475 - val_loss: 0.2521 - val_accuracy: 0.8989\n",
            "Epoch 8/100\n",
            "381/381 [==============================] - 0s 56us/sample - loss: 0.2276 - accuracy: 0.9475 - val_loss: 0.2412 - val_accuracy: 0.9043\n",
            "Epoch 9/100\n",
            "381/381 [==============================] - 0s 64us/sample - loss: 0.2167 - accuracy: 0.9475 - val_loss: 0.2318 - val_accuracy: 0.9096\n",
            "Epoch 10/100\n",
            "381/381 [==============================] - 0s 55us/sample - loss: 0.2074 - accuracy: 0.9528 - val_loss: 0.2232 - val_accuracy: 0.9149\n",
            "Epoch 11/100\n",
            "381/381 [==============================] - 0s 54us/sample - loss: 0.1990 - accuracy: 0.9554 - val_loss: 0.2154 - val_accuracy: 0.9202\n",
            "Epoch 12/100\n",
            "381/381 [==============================] - 0s 65us/sample - loss: 0.1909 - accuracy: 0.9554 - val_loss: 0.2086 - val_accuracy: 0.9255\n",
            "Epoch 13/100\n",
            "381/381 [==============================] - 0s 60us/sample - loss: 0.1839 - accuracy: 0.9580 - val_loss: 0.2026 - val_accuracy: 0.9255\n",
            "Epoch 14/100\n",
            "381/381 [==============================] - 0s 58us/sample - loss: 0.1777 - accuracy: 0.9633 - val_loss: 0.1969 - val_accuracy: 0.9362\n",
            "Epoch 15/100\n",
            "381/381 [==============================] - 0s 61us/sample - loss: 0.1717 - accuracy: 0.9633 - val_loss: 0.1918 - val_accuracy: 0.9468\n",
            "Epoch 16/100\n",
            "381/381 [==============================] - 0s 68us/sample - loss: 0.1665 - accuracy: 0.9633 - val_loss: 0.1870 - val_accuracy: 0.9521\n",
            "Epoch 17/100\n",
            "381/381 [==============================] - 0s 55us/sample - loss: 0.1615 - accuracy: 0.9633 - val_loss: 0.1827 - val_accuracy: 0.9521\n",
            "Epoch 18/100\n",
            "381/381 [==============================] - 0s 54us/sample - loss: 0.1568 - accuracy: 0.9659 - val_loss: 0.1788 - val_accuracy: 0.9521\n",
            "Epoch 19/100\n",
            "381/381 [==============================] - 0s 55us/sample - loss: 0.1526 - accuracy: 0.9685 - val_loss: 0.1751 - val_accuracy: 0.9521\n",
            "Epoch 20/100\n",
            "381/381 [==============================] - 0s 58us/sample - loss: 0.1486 - accuracy: 0.9711 - val_loss: 0.1718 - val_accuracy: 0.9574\n",
            "Epoch 21/100\n",
            "381/381 [==============================] - 0s 60us/sample - loss: 0.1450 - accuracy: 0.9711 - val_loss: 0.1686 - val_accuracy: 0.9574\n",
            "Epoch 22/100\n",
            "381/381 [==============================] - 0s 61us/sample - loss: 0.1415 - accuracy: 0.9685 - val_loss: 0.1657 - val_accuracy: 0.9574\n",
            "Epoch 23/100\n",
            "381/381 [==============================] - 0s 61us/sample - loss: 0.1383 - accuracy: 0.9685 - val_loss: 0.1631 - val_accuracy: 0.9574\n",
            "Epoch 24/100\n",
            "381/381 [==============================] - 0s 64us/sample - loss: 0.1352 - accuracy: 0.9685 - val_loss: 0.1606 - val_accuracy: 0.9574\n",
            "Epoch 25/100\n",
            "381/381 [==============================] - 0s 58us/sample - loss: 0.1324 - accuracy: 0.9685 - val_loss: 0.1582 - val_accuracy: 0.9574\n",
            "Epoch 26/100\n",
            "381/381 [==============================] - 0s 57us/sample - loss: 0.1297 - accuracy: 0.9685 - val_loss: 0.1560 - val_accuracy: 0.9574\n",
            "Epoch 27/100\n",
            "381/381 [==============================] - 0s 57us/sample - loss: 0.1271 - accuracy: 0.9685 - val_loss: 0.1539 - val_accuracy: 0.9574\n",
            "Epoch 28/100\n",
            "381/381 [==============================] - 0s 60us/sample - loss: 0.1247 - accuracy: 0.9685 - val_loss: 0.1519 - val_accuracy: 0.9574\n",
            "Epoch 29/100\n",
            "381/381 [==============================] - 0s 77us/sample - loss: 0.1225 - accuracy: 0.9685 - val_loss: 0.1501 - val_accuracy: 0.9628\n",
            "Epoch 30/100\n",
            "381/381 [==============================] - 0s 65us/sample - loss: 0.1202 - accuracy: 0.9685 - val_loss: 0.1484 - val_accuracy: 0.9628\n",
            "Epoch 31/100\n",
            "381/381 [==============================] - 0s 60us/sample - loss: 0.1183 - accuracy: 0.9738 - val_loss: 0.1467 - val_accuracy: 0.9628\n",
            "Epoch 32/100\n",
            "381/381 [==============================] - 0s 64us/sample - loss: 0.1162 - accuracy: 0.9738 - val_loss: 0.1452 - val_accuracy: 0.9628\n",
            "Epoch 33/100\n",
            "381/381 [==============================] - 0s 66us/sample - loss: 0.1144 - accuracy: 0.9738 - val_loss: 0.1437 - val_accuracy: 0.9628\n",
            "Epoch 34/100\n",
            "381/381 [==============================] - 0s 74us/sample - loss: 0.1126 - accuracy: 0.9738 - val_loss: 0.1423 - val_accuracy: 0.9628\n",
            "Epoch 35/100\n",
            "381/381 [==============================] - 0s 71us/sample - loss: 0.1108 - accuracy: 0.9738 - val_loss: 0.1410 - val_accuracy: 0.9628\n",
            "Epoch 36/100\n",
            "381/381 [==============================] - 0s 71us/sample - loss: 0.1092 - accuracy: 0.9738 - val_loss: 0.1398 - val_accuracy: 0.9628\n",
            "Epoch 37/100\n",
            "381/381 [==============================] - 0s 66us/sample - loss: 0.1077 - accuracy: 0.9738 - val_loss: 0.1385 - val_accuracy: 0.9628\n",
            "Epoch 38/100\n",
            "381/381 [==============================] - 0s 63us/sample - loss: 0.1062 - accuracy: 0.9738 - val_loss: 0.1374 - val_accuracy: 0.9628\n",
            "Epoch 39/100\n",
            "381/381 [==============================] - 0s 62us/sample - loss: 0.1047 - accuracy: 0.9738 - val_loss: 0.1363 - val_accuracy: 0.9628\n",
            "Epoch 40/100\n",
            "381/381 [==============================] - 0s 60us/sample - loss: 0.1034 - accuracy: 0.9738 - val_loss: 0.1352 - val_accuracy: 0.9628\n",
            "Epoch 41/100\n",
            "381/381 [==============================] - 0s 58us/sample - loss: 0.1020 - accuracy: 0.9738 - val_loss: 0.1342 - val_accuracy: 0.9628\n",
            "Epoch 42/100\n",
            "381/381 [==============================] - 0s 58us/sample - loss: 0.1008 - accuracy: 0.9764 - val_loss: 0.1333 - val_accuracy: 0.9628\n",
            "Epoch 43/100\n",
            "381/381 [==============================] - 0s 65us/sample - loss: 0.0995 - accuracy: 0.9764 - val_loss: 0.1324 - val_accuracy: 0.9628\n",
            "Epoch 44/100\n",
            "381/381 [==============================] - 0s 55us/sample - loss: 0.0983 - accuracy: 0.9764 - val_loss: 0.1315 - val_accuracy: 0.9628\n",
            "Epoch 45/100\n",
            "381/381 [==============================] - 0s 58us/sample - loss: 0.0972 - accuracy: 0.9764 - val_loss: 0.1307 - val_accuracy: 0.9628\n",
            "Epoch 46/100\n",
            "381/381 [==============================] - 0s 65us/sample - loss: 0.0961 - accuracy: 0.9764 - val_loss: 0.1299 - val_accuracy: 0.9628\n",
            "Epoch 47/100\n",
            "381/381 [==============================] - 0s 64us/sample - loss: 0.0950 - accuracy: 0.9764 - val_loss: 0.1291 - val_accuracy: 0.9628\n",
            "Epoch 48/100\n",
            "381/381 [==============================] - 0s 65us/sample - loss: 0.0939 - accuracy: 0.9764 - val_loss: 0.1283 - val_accuracy: 0.9628\n",
            "Epoch 49/100\n",
            "381/381 [==============================] - 0s 62us/sample - loss: 0.0930 - accuracy: 0.9764 - val_loss: 0.1276 - val_accuracy: 0.9628\n",
            "Epoch 50/100\n",
            "381/381 [==============================] - 0s 62us/sample - loss: 0.0921 - accuracy: 0.9764 - val_loss: 0.1269 - val_accuracy: 0.9628\n",
            "Epoch 51/100\n",
            "381/381 [==============================] - 0s 61us/sample - loss: 0.0911 - accuracy: 0.9764 - val_loss: 0.1262 - val_accuracy: 0.9574\n",
            "Epoch 52/100\n",
            "381/381 [==============================] - 0s 62us/sample - loss: 0.0902 - accuracy: 0.9764 - val_loss: 0.1256 - val_accuracy: 0.9574\n",
            "Epoch 53/100\n",
            "381/381 [==============================] - 0s 54us/sample - loss: 0.0893 - accuracy: 0.9764 - val_loss: 0.1250 - val_accuracy: 0.9574\n",
            "Epoch 54/100\n",
            "381/381 [==============================] - 0s 60us/sample - loss: 0.0884 - accuracy: 0.9764 - val_loss: 0.1244 - val_accuracy: 0.9574\n",
            "Epoch 55/100\n",
            "381/381 [==============================] - 0s 69us/sample - loss: 0.0876 - accuracy: 0.9764 - val_loss: 0.1238 - val_accuracy: 0.9574\n",
            "Epoch 56/100\n",
            "381/381 [==============================] - 0s 54us/sample - loss: 0.0868 - accuracy: 0.9764 - val_loss: 0.1232 - val_accuracy: 0.9574\n",
            "Epoch 57/100\n",
            "381/381 [==============================] - 0s 57us/sample - loss: 0.0860 - accuracy: 0.9764 - val_loss: 0.1226 - val_accuracy: 0.9574\n",
            "Epoch 58/100\n",
            "381/381 [==============================] - 0s 73us/sample - loss: 0.0853 - accuracy: 0.9764 - val_loss: 0.1221 - val_accuracy: 0.9574\n",
            "Epoch 59/100\n",
            "381/381 [==============================] - 0s 57us/sample - loss: 0.0846 - accuracy: 0.9790 - val_loss: 0.1216 - val_accuracy: 0.9574\n",
            "Epoch 60/100\n",
            "381/381 [==============================] - 0s 60us/sample - loss: 0.0838 - accuracy: 0.9790 - val_loss: 0.1211 - val_accuracy: 0.9574\n",
            "Epoch 61/100\n",
            "381/381 [==============================] - 0s 63us/sample - loss: 0.0831 - accuracy: 0.9790 - val_loss: 0.1206 - val_accuracy: 0.9574\n",
            "Epoch 62/100\n",
            "381/381 [==============================] - 0s 61us/sample - loss: 0.0824 - accuracy: 0.9790 - val_loss: 0.1201 - val_accuracy: 0.9574\n",
            "Epoch 63/100\n",
            "381/381 [==============================] - 0s 67us/sample - loss: 0.0818 - accuracy: 0.9790 - val_loss: 0.1197 - val_accuracy: 0.9574\n",
            "Epoch 64/100\n",
            "381/381 [==============================] - 0s 64us/sample - loss: 0.0812 - accuracy: 0.9790 - val_loss: 0.1192 - val_accuracy: 0.9574\n",
            "Epoch 65/100\n",
            "381/381 [==============================] - 0s 58us/sample - loss: 0.0805 - accuracy: 0.9790 - val_loss: 0.1188 - val_accuracy: 0.9574\n",
            "Epoch 66/100\n",
            "381/381 [==============================] - 0s 58us/sample - loss: 0.0799 - accuracy: 0.9790 - val_loss: 0.1183 - val_accuracy: 0.9574\n",
            "Epoch 67/100\n",
            "381/381 [==============================] - 0s 53us/sample - loss: 0.0793 - accuracy: 0.9790 - val_loss: 0.1179 - val_accuracy: 0.9574\n",
            "Epoch 68/100\n",
            "381/381 [==============================] - 0s 56us/sample - loss: 0.0787 - accuracy: 0.9790 - val_loss: 0.1175 - val_accuracy: 0.9574\n",
            "Epoch 69/100\n",
            "381/381 [==============================] - 0s 58us/sample - loss: 0.0782 - accuracy: 0.9790 - val_loss: 0.1171 - val_accuracy: 0.9574\n",
            "Epoch 70/100\n",
            "381/381 [==============================] - 0s 61us/sample - loss: 0.0776 - accuracy: 0.9790 - val_loss: 0.1168 - val_accuracy: 0.9574\n",
            "Epoch 71/100\n",
            "381/381 [==============================] - 0s 67us/sample - loss: 0.0771 - accuracy: 0.9790 - val_loss: 0.1164 - val_accuracy: 0.9574\n",
            "Epoch 72/100\n",
            "381/381 [==============================] - 0s 75us/sample - loss: 0.0765 - accuracy: 0.9790 - val_loss: 0.1160 - val_accuracy: 0.9574\n",
            "Epoch 73/100\n",
            "381/381 [==============================] - 0s 61us/sample - loss: 0.0760 - accuracy: 0.9790 - val_loss: 0.1157 - val_accuracy: 0.9574\n",
            "Epoch 74/100\n",
            "381/381 [==============================] - 0s 64us/sample - loss: 0.0755 - accuracy: 0.9790 - val_loss: 0.1153 - val_accuracy: 0.9574\n",
            "Epoch 75/100\n",
            "381/381 [==============================] - 0s 58us/sample - loss: 0.0750 - accuracy: 0.9790 - val_loss: 0.1150 - val_accuracy: 0.9574\n",
            "Epoch 76/100\n",
            "381/381 [==============================] - 0s 56us/sample - loss: 0.0745 - accuracy: 0.9790 - val_loss: 0.1147 - val_accuracy: 0.9574\n",
            "Epoch 77/100\n",
            "381/381 [==============================] - 0s 56us/sample - loss: 0.0741 - accuracy: 0.9790 - val_loss: 0.1144 - val_accuracy: 0.9574\n",
            "Epoch 78/100\n",
            "381/381 [==============================] - 0s 58us/sample - loss: 0.0737 - accuracy: 0.9790 - val_loss: 0.1140 - val_accuracy: 0.9574\n",
            "Epoch 79/100\n",
            "381/381 [==============================] - 0s 59us/sample - loss: 0.0732 - accuracy: 0.9816 - val_loss: 0.1137 - val_accuracy: 0.9574\n",
            "Epoch 80/100\n",
            "381/381 [==============================] - 0s 63us/sample - loss: 0.0727 - accuracy: 0.9816 - val_loss: 0.1134 - val_accuracy: 0.9574\n",
            "Epoch 81/100\n",
            "381/381 [==============================] - 0s 59us/sample - loss: 0.0723 - accuracy: 0.9816 - val_loss: 0.1131 - val_accuracy: 0.9574\n",
            "Epoch 82/100\n",
            "381/381 [==============================] - 0s 58us/sample - loss: 0.0719 - accuracy: 0.9816 - val_loss: 0.1128 - val_accuracy: 0.9574\n",
            "Epoch 83/100\n",
            "381/381 [==============================] - 0s 60us/sample - loss: 0.0715 - accuracy: 0.9816 - val_loss: 0.1125 - val_accuracy: 0.9574\n",
            "Epoch 84/100\n",
            "381/381 [==============================] - 0s 60us/sample - loss: 0.0711 - accuracy: 0.9816 - val_loss: 0.1123 - val_accuracy: 0.9574\n",
            "Epoch 85/100\n",
            "381/381 [==============================] - 0s 60us/sample - loss: 0.0706 - accuracy: 0.9816 - val_loss: 0.1120 - val_accuracy: 0.9574\n",
            "Epoch 86/100\n",
            "381/381 [==============================] - 0s 71us/sample - loss: 0.0703 - accuracy: 0.9816 - val_loss: 0.1117 - val_accuracy: 0.9574\n",
            "Epoch 87/100\n",
            "381/381 [==============================] - 0s 70us/sample - loss: 0.0699 - accuracy: 0.9816 - val_loss: 0.1115 - val_accuracy: 0.9574\n",
            "Epoch 88/100\n",
            "381/381 [==============================] - 0s 65us/sample - loss: 0.0695 - accuracy: 0.9843 - val_loss: 0.1112 - val_accuracy: 0.9628\n",
            "Epoch 89/100\n",
            "381/381 [==============================] - 0s 58us/sample - loss: 0.0691 - accuracy: 0.9843 - val_loss: 0.1110 - val_accuracy: 0.9628\n",
            "Epoch 90/100\n",
            "381/381 [==============================] - 0s 57us/sample - loss: 0.0688 - accuracy: 0.9843 - val_loss: 0.1107 - val_accuracy: 0.9628\n",
            "Epoch 91/100\n",
            "381/381 [==============================] - 0s 55us/sample - loss: 0.0684 - accuracy: 0.9843 - val_loss: 0.1104 - val_accuracy: 0.9628\n",
            "Epoch 92/100\n",
            "381/381 [==============================] - 0s 55us/sample - loss: 0.0681 - accuracy: 0.9843 - val_loss: 0.1102 - val_accuracy: 0.9628\n",
            "Epoch 93/100\n",
            "381/381 [==============================] - 0s 64us/sample - loss: 0.0677 - accuracy: 0.9843 - val_loss: 0.1100 - val_accuracy: 0.9628\n",
            "Epoch 94/100\n",
            "381/381 [==============================] - 0s 66us/sample - loss: 0.0674 - accuracy: 0.9843 - val_loss: 0.1097 - val_accuracy: 0.9628\n",
            "Epoch 95/100\n",
            "381/381 [==============================] - 0s 58us/sample - loss: 0.0670 - accuracy: 0.9843 - val_loss: 0.1095 - val_accuracy: 0.9628\n",
            "Epoch 96/100\n",
            "381/381 [==============================] - 0s 68us/sample - loss: 0.0667 - accuracy: 0.9843 - val_loss: 0.1093 - val_accuracy: 0.9681\n",
            "Epoch 97/100\n",
            "381/381 [==============================] - 0s 64us/sample - loss: 0.0664 - accuracy: 0.9843 - val_loss: 0.1091 - val_accuracy: 0.9681\n",
            "Epoch 98/100\n",
            "381/381 [==============================] - 0s 63us/sample - loss: 0.0661 - accuracy: 0.9843 - val_loss: 0.1088 - val_accuracy: 0.9681\n",
            "Epoch 99/100\n",
            "381/381 [==============================] - 0s 63us/sample - loss: 0.0658 - accuracy: 0.9843 - val_loss: 0.1086 - val_accuracy: 0.9681\n",
            "Epoch 100/100\n",
            "381/381 [==============================] - 0s 63us/sample - loss: 0.0655 - accuracy: 0.9843 - val_loss: 0.1084 - val_accuracy: 0.9681\n",
            "381/381 [==============================] - 0s 69us/sample - loss: 0.0653 - accuracy: 0.9843\n",
            "Train score :  [0.06526957348653964, 0.984252]\n",
            "188/188 [==============================] - 0s 38us/sample - loss: 0.1084 - accuracy: 0.9681\n",
            "Test score :  [0.10841059764014914, 0.9680851]\n"
          ],
          "name": "stdout"
        }
      ]
    },
    {
      "cell_type": "code",
      "metadata": {
        "id": "XiioeqEYz9UD",
        "colab_type": "code",
        "colab": {
          "base_uri": "https://localhost:8080/",
          "height": 299
        },
        "outputId": "fa2c9a4e-6853-4f40-9804-ea81fe039678"
      },
      "source": [
        "import matplotlib.pyplot as plt\n",
        "plt.plot(r.history['loss'],label='loss')\n",
        "plt.plot(r.history['val_loss'],label='val_loss')\n",
        "plt.legend()"
      ],
      "execution_count": 18,
      "outputs": [
        {
          "output_type": "stream",
          "text": [
            "ERROR! Session/line number was not unique in database. History logging moved to new session 59\n"
          ],
          "name": "stdout"
        },
        {
          "output_type": "execute_result",
          "data": {
            "text/plain": [
              "<function matplotlib.pyplot.legend>"
            ]
          },
          "metadata": {
            "tags": []
          },
          "execution_count": 18
        },
        {
          "output_type": "display_data",
          "data": {
            "image/png": "[encoded data removed]",
            "text/plain": [
              "<Figure size 432x288 with 1 Axes>"
            ]
          },
          "metadata": {
            "tags": []
          }
        }
      ]
    },
    {
      "cell_type": "code",
      "metadata": {
        "id": "OgNzdXum5VnS",
        "colab_type": "code",
        "colab": {
          "base_uri": "https://localhost:8080/",
          "height": 282
        },
        "outputId": "d94c02c5-bcce-4aed-bb57-0bb9c88440c2"
      },
      "source": [
        "plt.plot(r.history['accuracy'],label='accuracy')\n",
        "plt.plot(r.history['val_accuracy'],label='val_accuracy')\n",
        "plt.legend()"
      ],
      "execution_count": 21,
      "outputs": [
        {
          "output_type": "execute_result",
          "data": {
            "text/plain": [
              "<matplotlib.legend.Legend at 0x7f1078274ac8>"
            ]
          },
          "metadata": {
            "tags": []
          },
          "execution_count": 21
        },
        {
          "output_type": "display_data",
          "data": {
            "image/png": "[encoded data removed]",
            "text/plain": [
              "<Figure size 432x288 with 1 Axes>"
            ]
          },
          "metadata": {
            "tags": []
          }
        }
      ]
    }
  ]
}